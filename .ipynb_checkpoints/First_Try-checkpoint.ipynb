{
 "cells": [
  {
   "cell_type": "code",
   "execution_count": 142,
   "metadata": {},
   "outputs": [],
   "source": [
    "import pandas as pd\n",
    "import numpy as np\n",
    "import datetime\n",
    "from itertools import product\n",
    "import matplotlib.pyplot as plt\n",
    "import xgboost as xgb\n",
    "%matplotlib inline\n",
    "from IPython.core.interactiveshell import InteractiveShell\n",
    "InteractiveShell.ast_node_interactivity = \"all\""
   ]
  },
  {
   "cell_type": "markdown",
   "metadata": {},
   "source": [
    "Read the files:"
   ]
  },
  {
   "cell_type": "code",
   "execution_count": 3,
   "metadata": {},
   "outputs": [],
   "source": [
    "train_path = pd.read_csv('/Users/taolu/Documents/ML/Competitive_Data_Science_Course/sales_train.csv')\n",
    "test_path = pd.read_csv('/Users/taolu/Documents/ML/Competitive_Data_Science_Course/test.csv')\n",
    "items = pd.read_csv('/Users/taolu/Documents/ML/Competitive_Data_Science_Course/items.csv')\n",
    "item_categories = pd.read_csv('/Users/taolu/Documents/ML/Competitive_Data_Science_Course/item_categories.csv')\n",
    "shops = pd.read_csv('/Users/taolu/Documents/ML/Competitive_Data_Science_Course/shops.csv')\n",
    "sample_submission = pd.read_csv('/Users/taolu/Documents/ML/Competitive_Data_Science_Course/sample_submission.csv')"
   ]
  },
  {
   "cell_type": "markdown",
   "metadata": {},
   "source": [
    "Check out the test file first. There's discussion around the pairs in the test dataset not being found in the training dataset. We can set month forecast of the missing ones as 0."
   ]
  },
  {
   "cell_type": "code",
   "execution_count": 26,
   "metadata": {},
   "outputs": [
    {
     "data": {
      "text/html": [
       "<div>\n",
       "<style>\n",
       "    .dataframe thead tr:only-child th {\n",
       "        text-align: right;\n",
       "    }\n",
       "\n",
       "    .dataframe thead th {\n",
       "        text-align: left;\n",
       "    }\n",
       "\n",
       "    .dataframe tbody tr th {\n",
       "        vertical-align: top;\n",
       "    }\n",
       "</style>\n",
       "<table border=\"1\" class=\"dataframe\">\n",
       "  <thead>\n",
       "    <tr style=\"text-align: right;\">\n",
       "      <th></th>\n",
       "      <th>ID</th>\n",
       "      <th>shop_id</th>\n",
       "      <th>item_id</th>\n",
       "    </tr>\n",
       "  </thead>\n",
       "  <tbody>\n",
       "    <tr>\n",
       "      <th>count</th>\n",
       "      <td>214200.000000</td>\n",
       "      <td>214200.000000</td>\n",
       "      <td>214200.000000</td>\n",
       "    </tr>\n",
       "    <tr>\n",
       "      <th>mean</th>\n",
       "      <td>107099.500000</td>\n",
       "      <td>31.642857</td>\n",
       "      <td>11019.398627</td>\n",
       "    </tr>\n",
       "    <tr>\n",
       "      <th>std</th>\n",
       "      <td>61834.358168</td>\n",
       "      <td>17.561933</td>\n",
       "      <td>6252.644590</td>\n",
       "    </tr>\n",
       "    <tr>\n",
       "      <th>min</th>\n",
       "      <td>0.000000</td>\n",
       "      <td>2.000000</td>\n",
       "      <td>30.000000</td>\n",
       "    </tr>\n",
       "    <tr>\n",
       "      <th>25%</th>\n",
       "      <td>53549.750000</td>\n",
       "      <td>16.000000</td>\n",
       "      <td>5381.500000</td>\n",
       "    </tr>\n",
       "    <tr>\n",
       "      <th>50%</th>\n",
       "      <td>107099.500000</td>\n",
       "      <td>34.500000</td>\n",
       "      <td>11203.000000</td>\n",
       "    </tr>\n",
       "    <tr>\n",
       "      <th>75%</th>\n",
       "      <td>160649.250000</td>\n",
       "      <td>47.000000</td>\n",
       "      <td>16071.500000</td>\n",
       "    </tr>\n",
       "    <tr>\n",
       "      <th>max</th>\n",
       "      <td>214199.000000</td>\n",
       "      <td>59.000000</td>\n",
       "      <td>22167.000000</td>\n",
       "    </tr>\n",
       "  </tbody>\n",
       "</table>\n",
       "</div>"
      ],
      "text/plain": [
       "                  ID        shop_id        item_id\n",
       "count  214200.000000  214200.000000  214200.000000\n",
       "mean   107099.500000      31.642857   11019.398627\n",
       "std     61834.358168      17.561933    6252.644590\n",
       "min         0.000000       2.000000      30.000000\n",
       "25%     53549.750000      16.000000    5381.500000\n",
       "50%    107099.500000      34.500000   11203.000000\n",
       "75%    160649.250000      47.000000   16071.500000\n",
       "max    214199.000000      59.000000   22167.000000"
      ]
     },
     "execution_count": 26,
     "metadata": {},
     "output_type": "execute_result"
    },
    {
     "data": {
      "text/plain": [
       "214200"
      ]
     },
     "execution_count": 26,
     "metadata": {},
     "output_type": "execute_result"
    },
    {
     "data": {
      "text/html": [
       "<div>\n",
       "<style>\n",
       "    .dataframe thead tr:only-child th {\n",
       "        text-align: right;\n",
       "    }\n",
       "\n",
       "    .dataframe thead th {\n",
       "        text-align: left;\n",
       "    }\n",
       "\n",
       "    .dataframe tbody tr th {\n",
       "        vertical-align: top;\n",
       "    }\n",
       "</style>\n",
       "<table border=\"1\" class=\"dataframe\">\n",
       "  <thead>\n",
       "    <tr style=\"text-align: right;\">\n",
       "      <th></th>\n",
       "      <th>ID</th>\n",
       "      <th>shop_id</th>\n",
       "      <th>item_id</th>\n",
       "    </tr>\n",
       "  </thead>\n",
       "  <tbody>\n",
       "    <tr>\n",
       "      <th>0</th>\n",
       "      <td>0</td>\n",
       "      <td>5</td>\n",
       "      <td>5037</td>\n",
       "    </tr>\n",
       "    <tr>\n",
       "      <th>1</th>\n",
       "      <td>1</td>\n",
       "      <td>5</td>\n",
       "      <td>5320</td>\n",
       "    </tr>\n",
       "    <tr>\n",
       "      <th>2</th>\n",
       "      <td>2</td>\n",
       "      <td>5</td>\n",
       "      <td>5233</td>\n",
       "    </tr>\n",
       "    <tr>\n",
       "      <th>3</th>\n",
       "      <td>3</td>\n",
       "      <td>5</td>\n",
       "      <td>5232</td>\n",
       "    </tr>\n",
       "  </tbody>\n",
       "</table>\n",
       "</div>"
      ],
      "text/plain": [
       "   ID  shop_id  item_id\n",
       "0   0        5     5037\n",
       "1   1        5     5320\n",
       "2   2        5     5233\n",
       "3   3        5     5232"
      ]
     },
     "execution_count": 26,
     "metadata": {},
     "output_type": "execute_result"
    }
   ],
   "source": [
    "test_path.describe()\n",
    "test_path.ID.nunique()\n",
    "test_path.head(4)"
   ]
  },
  {
   "cell_type": "code",
   "execution_count": 10,
   "metadata": {},
   "outputs": [
    {
     "data": {
      "text/html": [
       "<div>\n",
       "<style>\n",
       "    .dataframe thead tr:only-child th {\n",
       "        text-align: right;\n",
       "    }\n",
       "\n",
       "    .dataframe thead th {\n",
       "        text-align: left;\n",
       "    }\n",
       "\n",
       "    .dataframe tbody tr th {\n",
       "        vertical-align: top;\n",
       "    }\n",
       "</style>\n",
       "<table border=\"1\" class=\"dataframe\">\n",
       "  <thead>\n",
       "    <tr style=\"text-align: right;\">\n",
       "      <th></th>\n",
       "      <th>date_block_num</th>\n",
       "      <th>shop_id</th>\n",
       "      <th>item_id</th>\n",
       "      <th>item_price</th>\n",
       "      <th>item_cnt_day</th>\n",
       "      <th>Year</th>\n",
       "      <th>Month</th>\n",
       "      <th>Day</th>\n",
       "      <th>Revenue</th>\n",
       "    </tr>\n",
       "  </thead>\n",
       "  <tbody>\n",
       "    <tr>\n",
       "      <th>count</th>\n",
       "      <td>2.935849e+06</td>\n",
       "      <td>2.935849e+06</td>\n",
       "      <td>2.935849e+06</td>\n",
       "      <td>2.935849e+06</td>\n",
       "      <td>2.935849e+06</td>\n",
       "      <td>2.935849e+06</td>\n",
       "      <td>2.935849e+06</td>\n",
       "      <td>2.935849e+06</td>\n",
       "      <td>2.935849e+06</td>\n",
       "    </tr>\n",
       "    <tr>\n",
       "      <th>mean</th>\n",
       "      <td>1.456991e+01</td>\n",
       "      <td>3.300173e+01</td>\n",
       "      <td>1.019723e+04</td>\n",
       "      <td>8.908532e+02</td>\n",
       "      <td>1.242641e+00</td>\n",
       "      <td>2.013777e+03</td>\n",
       "      <td>6.247717e+00</td>\n",
       "      <td>1.585267e+01</td>\n",
       "      <td>1.157732e+03</td>\n",
       "    </tr>\n",
       "    <tr>\n",
       "      <th>std</th>\n",
       "      <td>9.422988e+00</td>\n",
       "      <td>1.622697e+01</td>\n",
       "      <td>6.324297e+03</td>\n",
       "      <td>1.729800e+03</td>\n",
       "      <td>2.618834e+00</td>\n",
       "      <td>7.684790e-01</td>\n",
       "      <td>3.536219e+00</td>\n",
       "      <td>8.923483e+00</td>\n",
       "      <td>5.683604e+03</td>\n",
       "    </tr>\n",
       "    <tr>\n",
       "      <th>min</th>\n",
       "      <td>0.000000e+00</td>\n",
       "      <td>0.000000e+00</td>\n",
       "      <td>0.000000e+00</td>\n",
       "      <td>-1.000000e+00</td>\n",
       "      <td>-2.200000e+01</td>\n",
       "      <td>2.013000e+03</td>\n",
       "      <td>1.000000e+00</td>\n",
       "      <td>1.000000e+00</td>\n",
       "      <td>-6.897000e+04</td>\n",
       "    </tr>\n",
       "    <tr>\n",
       "      <th>25%</th>\n",
       "      <td>7.000000e+00</td>\n",
       "      <td>2.200000e+01</td>\n",
       "      <td>4.476000e+03</td>\n",
       "      <td>2.490000e+02</td>\n",
       "      <td>1.000000e+00</td>\n",
       "      <td>2.013000e+03</td>\n",
       "      <td>3.000000e+00</td>\n",
       "      <td>8.000000e+00</td>\n",
       "      <td>2.490000e+02</td>\n",
       "    </tr>\n",
       "    <tr>\n",
       "      <th>50%</th>\n",
       "      <td>1.400000e+01</td>\n",
       "      <td>3.100000e+01</td>\n",
       "      <td>9.343000e+03</td>\n",
       "      <td>3.990000e+02</td>\n",
       "      <td>1.000000e+00</td>\n",
       "      <td>2.014000e+03</td>\n",
       "      <td>6.000000e+00</td>\n",
       "      <td>1.600000e+01</td>\n",
       "      <td>4.490000e+02</td>\n",
       "    </tr>\n",
       "    <tr>\n",
       "      <th>75%</th>\n",
       "      <td>2.300000e+01</td>\n",
       "      <td>4.700000e+01</td>\n",
       "      <td>1.568400e+04</td>\n",
       "      <td>9.990000e+02</td>\n",
       "      <td>1.000000e+00</td>\n",
       "      <td>2.014000e+03</td>\n",
       "      <td>9.000000e+00</td>\n",
       "      <td>2.400000e+01</td>\n",
       "      <td>1.078200e+03</td>\n",
       "    </tr>\n",
       "    <tr>\n",
       "      <th>max</th>\n",
       "      <td>3.300000e+01</td>\n",
       "      <td>5.900000e+01</td>\n",
       "      <td>2.216900e+04</td>\n",
       "      <td>3.079800e+05</td>\n",
       "      <td>2.169000e+03</td>\n",
       "      <td>2.015000e+03</td>\n",
       "      <td>1.200000e+01</td>\n",
       "      <td>3.100000e+01</td>\n",
       "      <td>1.829990e+06</td>\n",
       "    </tr>\n",
       "  </tbody>\n",
       "</table>\n",
       "</div>"
      ],
      "text/plain": [
       "       date_block_num       shop_id       item_id    item_price  item_cnt_day  \\\n",
       "count    2.935849e+06  2.935849e+06  2.935849e+06  2.935849e+06  2.935849e+06   \n",
       "mean     1.456991e+01  3.300173e+01  1.019723e+04  8.908532e+02  1.242641e+00   \n",
       "std      9.422988e+00  1.622697e+01  6.324297e+03  1.729800e+03  2.618834e+00   \n",
       "min      0.000000e+00  0.000000e+00  0.000000e+00 -1.000000e+00 -2.200000e+01   \n",
       "25%      7.000000e+00  2.200000e+01  4.476000e+03  2.490000e+02  1.000000e+00   \n",
       "50%      1.400000e+01  3.100000e+01  9.343000e+03  3.990000e+02  1.000000e+00   \n",
       "75%      2.300000e+01  4.700000e+01  1.568400e+04  9.990000e+02  1.000000e+00   \n",
       "max      3.300000e+01  5.900000e+01  2.216900e+04  3.079800e+05  2.169000e+03   \n",
       "\n",
       "               Year         Month           Day       Revenue  \n",
       "count  2.935849e+06  2.935849e+06  2.935849e+06  2.935849e+06  \n",
       "mean   2.013777e+03  6.247717e+00  1.585267e+01  1.157732e+03  \n",
       "std    7.684790e-01  3.536219e+00  8.923483e+00  5.683604e+03  \n",
       "min    2.013000e+03  1.000000e+00  1.000000e+00 -6.897000e+04  \n",
       "25%    2.013000e+03  3.000000e+00  8.000000e+00  2.490000e+02  \n",
       "50%    2.014000e+03  6.000000e+00  1.600000e+01  4.490000e+02  \n",
       "75%    2.014000e+03  9.000000e+00  2.400000e+01  1.078200e+03  \n",
       "max    2.015000e+03  1.200000e+01  3.100000e+01  1.829990e+06  "
      ]
     },
     "execution_count": 10,
     "metadata": {},
     "output_type": "execute_result"
    },
    {
     "data": {
      "text/html": [
       "<div>\n",
       "<style>\n",
       "    .dataframe thead tr:only-child th {\n",
       "        text-align: right;\n",
       "    }\n",
       "\n",
       "    .dataframe thead th {\n",
       "        text-align: left;\n",
       "    }\n",
       "\n",
       "    .dataframe tbody tr th {\n",
       "        vertical-align: top;\n",
       "    }\n",
       "</style>\n",
       "<table border=\"1\" class=\"dataframe\">\n",
       "  <thead>\n",
       "    <tr style=\"text-align: right;\">\n",
       "      <th></th>\n",
       "      <th>date</th>\n",
       "      <th>date_block_num</th>\n",
       "      <th>shop_id</th>\n",
       "      <th>item_id</th>\n",
       "      <th>item_price</th>\n",
       "      <th>item_cnt_day</th>\n",
       "      <th>date2</th>\n",
       "      <th>Year</th>\n",
       "      <th>Month</th>\n",
       "      <th>Day</th>\n",
       "      <th>Revenue</th>\n",
       "    </tr>\n",
       "  </thead>\n",
       "  <tbody>\n",
       "    <tr>\n",
       "      <th>0</th>\n",
       "      <td>02.01.2013</td>\n",
       "      <td>0</td>\n",
       "      <td>59</td>\n",
       "      <td>22154</td>\n",
       "      <td>999.00</td>\n",
       "      <td>1.0</td>\n",
       "      <td>2013-01-02</td>\n",
       "      <td>2013</td>\n",
       "      <td>1</td>\n",
       "      <td>2</td>\n",
       "      <td>999.00</td>\n",
       "    </tr>\n",
       "    <tr>\n",
       "      <th>1</th>\n",
       "      <td>03.01.2013</td>\n",
       "      <td>0</td>\n",
       "      <td>25</td>\n",
       "      <td>2552</td>\n",
       "      <td>899.00</td>\n",
       "      <td>1.0</td>\n",
       "      <td>2013-01-03</td>\n",
       "      <td>2013</td>\n",
       "      <td>1</td>\n",
       "      <td>3</td>\n",
       "      <td>899.00</td>\n",
       "    </tr>\n",
       "    <tr>\n",
       "      <th>2</th>\n",
       "      <td>05.01.2013</td>\n",
       "      <td>0</td>\n",
       "      <td>25</td>\n",
       "      <td>2552</td>\n",
       "      <td>899.00</td>\n",
       "      <td>-1.0</td>\n",
       "      <td>2013-01-05</td>\n",
       "      <td>2013</td>\n",
       "      <td>1</td>\n",
       "      <td>5</td>\n",
       "      <td>-899.00</td>\n",
       "    </tr>\n",
       "    <tr>\n",
       "      <th>3</th>\n",
       "      <td>06.01.2013</td>\n",
       "      <td>0</td>\n",
       "      <td>25</td>\n",
       "      <td>2554</td>\n",
       "      <td>1709.05</td>\n",
       "      <td>1.0</td>\n",
       "      <td>2013-01-06</td>\n",
       "      <td>2013</td>\n",
       "      <td>1</td>\n",
       "      <td>6</td>\n",
       "      <td>1709.05</td>\n",
       "    </tr>\n",
       "  </tbody>\n",
       "</table>\n",
       "</div>"
      ],
      "text/plain": [
       "         date  date_block_num  shop_id  item_id  item_price  item_cnt_day  \\\n",
       "0  02.01.2013               0       59    22154      999.00           1.0   \n",
       "1  03.01.2013               0       25     2552      899.00           1.0   \n",
       "2  05.01.2013               0       25     2552      899.00          -1.0   \n",
       "3  06.01.2013               0       25     2554     1709.05           1.0   \n",
       "\n",
       "       date2  Year  Month  Day  Revenue  \n",
       "0 2013-01-02  2013      1    2   999.00  \n",
       "1 2013-01-03  2013      1    3   899.00  \n",
       "2 2013-01-05  2013      1    5  -899.00  \n",
       "3 2013-01-06  2013      1    6  1709.05  "
      ]
     },
     "execution_count": 10,
     "metadata": {},
     "output_type": "execute_result"
    }
   ],
   "source": [
    "train_path.describe()\n",
    "train_path.head(4)"
   ]
  },
  {
   "cell_type": "code",
   "execution_count": 139,
   "metadata": {},
   "outputs": [
    {
     "data": {
      "text/html": [
       "<div>\n",
       "<style>\n",
       "    .dataframe thead tr:only-child th {\n",
       "        text-align: right;\n",
       "    }\n",
       "\n",
       "    .dataframe thead th {\n",
       "        text-align: left;\n",
       "    }\n",
       "\n",
       "    .dataframe tbody tr th {\n",
       "        vertical-align: top;\n",
       "    }\n",
       "</style>\n",
       "<table border=\"1\" class=\"dataframe\">\n",
       "  <thead>\n",
       "    <tr style=\"text-align: right;\">\n",
       "      <th></th>\n",
       "      <th>shop_name</th>\n",
       "      <th>shop_id</th>\n",
       "    </tr>\n",
       "  </thead>\n",
       "  <tbody>\n",
       "    <tr>\n",
       "      <th>0</th>\n",
       "      <td>!Якутск Орджоникидзе, 56 фран</td>\n",
       "      <td>0</td>\n",
       "    </tr>\n",
       "    <tr>\n",
       "      <th>1</th>\n",
       "      <td>!Якутск ТЦ \"Центральный\" фран</td>\n",
       "      <td>1</td>\n",
       "    </tr>\n",
       "    <tr>\n",
       "      <th>2</th>\n",
       "      <td>Адыгея ТЦ \"Мега\"</td>\n",
       "      <td>2</td>\n",
       "    </tr>\n",
       "    <tr>\n",
       "      <th>3</th>\n",
       "      <td>Балашиха ТРК \"Октябрь-Киномир\"</td>\n",
       "      <td>3</td>\n",
       "    </tr>\n",
       "  </tbody>\n",
       "</table>\n",
       "</div>"
      ],
      "text/plain": [
       "                        shop_name  shop_id\n",
       "0   !Якутск Орджоникидзе, 56 фран        0\n",
       "1   !Якутск ТЦ \"Центральный\" фран        1\n",
       "2                Адыгея ТЦ \"Мега\"        2\n",
       "3  Балашиха ТРК \"Октябрь-Киномир\"        3"
      ]
     },
     "execution_count": 139,
     "metadata": {},
     "output_type": "execute_result"
    },
    {
     "data": {
      "text/html": [
       "<div>\n",
       "<style>\n",
       "    .dataframe thead tr:only-child th {\n",
       "        text-align: right;\n",
       "    }\n",
       "\n",
       "    .dataframe thead th {\n",
       "        text-align: left;\n",
       "    }\n",
       "\n",
       "    .dataframe tbody tr th {\n",
       "        vertical-align: top;\n",
       "    }\n",
       "</style>\n",
       "<table border=\"1\" class=\"dataframe\">\n",
       "  <thead>\n",
       "    <tr style=\"text-align: right;\">\n",
       "      <th></th>\n",
       "      <th>item_name</th>\n",
       "      <th>item_id</th>\n",
       "      <th>item_category_id</th>\n",
       "    </tr>\n",
       "  </thead>\n",
       "  <tbody>\n",
       "    <tr>\n",
       "      <th>0</th>\n",
       "      <td>! ВО ВЛАСТИ НАВАЖДЕНИЯ (ПЛАСТ.)         D</td>\n",
       "      <td>0</td>\n",
       "      <td>40</td>\n",
       "    </tr>\n",
       "    <tr>\n",
       "      <th>1</th>\n",
       "      <td>!ABBYY FineReader 12 Professional Edition Full...</td>\n",
       "      <td>1</td>\n",
       "      <td>76</td>\n",
       "    </tr>\n",
       "    <tr>\n",
       "      <th>2</th>\n",
       "      <td>***В ЛУЧАХ СЛАВЫ   (UNV)                    D</td>\n",
       "      <td>2</td>\n",
       "      <td>40</td>\n",
       "    </tr>\n",
       "    <tr>\n",
       "      <th>3</th>\n",
       "      <td>***ГОЛУБАЯ ВОЛНА  (Univ)                      D</td>\n",
       "      <td>3</td>\n",
       "      <td>40</td>\n",
       "    </tr>\n",
       "  </tbody>\n",
       "</table>\n",
       "</div>"
      ],
      "text/plain": [
       "                                           item_name  item_id  \\\n",
       "0          ! ВО ВЛАСТИ НАВАЖДЕНИЯ (ПЛАСТ.)         D        0   \n",
       "1  !ABBYY FineReader 12 Professional Edition Full...        1   \n",
       "2      ***В ЛУЧАХ СЛАВЫ   (UNV)                    D        2   \n",
       "3    ***ГОЛУБАЯ ВОЛНА  (Univ)                      D        3   \n",
       "\n",
       "   item_category_id  \n",
       "0                40  \n",
       "1                76  \n",
       "2                40  \n",
       "3                40  "
      ]
     },
     "execution_count": 139,
     "metadata": {},
     "output_type": "execute_result"
    },
    {
     "data": {
      "text/html": [
       "<div>\n",
       "<style>\n",
       "    .dataframe thead tr:only-child th {\n",
       "        text-align: right;\n",
       "    }\n",
       "\n",
       "    .dataframe thead th {\n",
       "        text-align: left;\n",
       "    }\n",
       "\n",
       "    .dataframe tbody tr th {\n",
       "        vertical-align: top;\n",
       "    }\n",
       "</style>\n",
       "<table border=\"1\" class=\"dataframe\">\n",
       "  <thead>\n",
       "    <tr style=\"text-align: right;\">\n",
       "      <th></th>\n",
       "      <th>item_category_name</th>\n",
       "      <th>item_category_id</th>\n",
       "    </tr>\n",
       "  </thead>\n",
       "  <tbody>\n",
       "    <tr>\n",
       "      <th>0</th>\n",
       "      <td>PC - Гарнитуры/Наушники</td>\n",
       "      <td>0</td>\n",
       "    </tr>\n",
       "    <tr>\n",
       "      <th>1</th>\n",
       "      <td>Аксессуары - PS2</td>\n",
       "      <td>1</td>\n",
       "    </tr>\n",
       "    <tr>\n",
       "      <th>2</th>\n",
       "      <td>Аксессуары - PS3</td>\n",
       "      <td>2</td>\n",
       "    </tr>\n",
       "    <tr>\n",
       "      <th>3</th>\n",
       "      <td>Аксессуары - PS4</td>\n",
       "      <td>3</td>\n",
       "    </tr>\n",
       "  </tbody>\n",
       "</table>\n",
       "</div>"
      ],
      "text/plain": [
       "        item_category_name  item_category_id\n",
       "0  PC - Гарнитуры/Наушники                 0\n",
       "1         Аксессуары - PS2                 1\n",
       "2         Аксессуары - PS3                 2\n",
       "3         Аксессуары - PS4                 3"
      ]
     },
     "execution_count": 139,
     "metadata": {},
     "output_type": "execute_result"
    },
    {
     "data": {
      "text/plain": [
       "60"
      ]
     },
     "execution_count": 139,
     "metadata": {},
     "output_type": "execute_result"
    },
    {
     "data": {
      "text/plain": [
       "21807"
      ]
     },
     "execution_count": 139,
     "metadata": {},
     "output_type": "execute_result"
    }
   ],
   "source": [
    "shops.head(4)\n",
    "items.head(4)\n",
    "item_categories.head(4)\n",
    "shops['shop_id'].nunique()\n",
    "train_path['item_id'].nunique()"
   ]
  },
  {
   "cell_type": "code",
   "execution_count": 90,
   "metadata": {},
   "outputs": [
    {
     "data": {
      "text/plain": [
       "21807"
      ]
     },
     "execution_count": 90,
     "metadata": {},
     "output_type": "execute_result"
    }
   ],
   "source": [
    "train_path['item_id'].nunique()"
   ]
  },
  {
   "cell_type": "markdown",
   "metadata": {},
   "source": [
    "Copy the code from Gowtham to make sure the clip is understood correctly"
   ]
  },
  {
   "cell_type": "code",
   "execution_count": 96,
   "metadata": {},
   "outputs": [
    {
     "name": "stderr",
     "output_type": "stream",
     "text": [
      "/Users/taolu/anaconda3/lib/python3.6/site-packages/pandas/core/groupby.py:4036: FutureWarning: using a dict with renaming is deprecated and will be removed in a future version\n",
      "  return super(DataFrameGroupBy, self).aggregate(arg, *args, **kwargs)\n"
     ]
    }
   ],
   "source": [
    "index_cols = ['shop_id', 'item_id', 'date_block_num']\n",
    "\n",
    "# For every month we create a grid from all shops/items combinations from that month\n",
    "grid = [] \n",
    "for block_num in train_path['date_block_num'].unique():\n",
    "    cur_shops = train_path[train_path['date_block_num']==block_num]['shop_id'].unique()\n",
    "    cur_items = train_path[train_path['date_block_num']==block_num]['item_id'].unique()\n",
    "    grid.append(np.array(list(product(*[cur_shops, cur_items, [block_num]])),dtype='int32'))\n",
    "\n",
    "#turn the grid into pandas dataframe\n",
    "grid = pd.DataFrame(np.vstack(grid), columns = index_cols,dtype=np.int32)\n",
    "\n",
    "#get aggregated values for (shop_id, item_id, month)\n",
    "gb = train_path.groupby(index_cols,as_index=False).agg({'item_cnt_day':{'target':'sum'}})\n",
    "\n",
    "#fix column names\n",
    "gb.columns = [col[0] if col[-1]=='' else col[-1] for col in gb.columns.values]\n",
    "#join aggregated data to the grid\n",
    "# all_data = pd.merge(grid,gb,how='left',on=index_cols).fillna(0)\n",
    "all_data = pd.merge(grid,gb,how='left',on=index_cols)\n",
    "#sort the data\n",
    "all_data.sort_values(['date_block_num','shop_id','item_id'],inplace=True)"
   ]
  },
  {
   "cell_type": "markdown",
   "metadata": {},
   "source": [
    "Add a standard date column and extract the day, month and year info fraom data."
   ]
  },
  {
   "cell_type": "code",
   "execution_count": 8,
   "metadata": {
    "collapsed": true
   },
   "outputs": [],
   "source": [
    "train_path[\"date2\"] = pd.to_datetime(train_path[\"date\"], format=\"%d.%m.%Y\")\n",
    "train_path[\"Year\"] = train_path[\"date2\"].map(lambda x: x.year)\n",
    "train_path[\"Month\"] = train_path[\"date2\"].map(lambda x: x.month)\n",
    "train_path[\"Day\"] = train_path[\"date2\"].map(lambda x: x.day)"
   ]
  },
  {
   "cell_type": "markdown",
   "metadata": {},
   "source": [
    "Add a revenue column to the dataset."
   ]
  },
  {
   "cell_type": "code",
   "execution_count": 9,
   "metadata": {
    "collapsed": true
   },
   "outputs": [],
   "source": [
    "train_path[\"Revenue\"] = train_path.item_price * train_path.item_cnt_day"
   ]
  },
  {
   "cell_type": "code",
   "execution_count": 133,
   "metadata": {},
   "outputs": [],
   "source": [
    "shops_items_per_month = train_path.groupby(['Year','Month','shop_id','item_id'], as_index = False)['item_cnt_day'].sum()\n",
    "shops_items_per_month['item_cnt_day'] = shops_items_per_month['item_cnt_day'].clip(0.0, 20.0)"
   ]
  },
  {
   "cell_type": "markdown",
   "metadata": {},
   "source": [
    "Add a column to set a day so we can construct a time series column to plot a few examples in the training data.\n"
   ]
  },
  {
   "cell_type": "code",
   "execution_count": 134,
   "metadata": {},
   "outputs": [
    {
     "data": {
      "text/html": [
       "<div>\n",
       "<style>\n",
       "    .dataframe thead tr:only-child th {\n",
       "        text-align: right;\n",
       "    }\n",
       "\n",
       "    .dataframe thead th {\n",
       "        text-align: left;\n",
       "    }\n",
       "\n",
       "    .dataframe tbody tr th {\n",
       "        vertical-align: top;\n",
       "    }\n",
       "</style>\n",
       "<table border=\"1\" class=\"dataframe\">\n",
       "  <thead>\n",
       "    <tr style=\"text-align: right;\">\n",
       "      <th></th>\n",
       "      <th>Year</th>\n",
       "      <th>Month</th>\n",
       "      <th>shop_id</th>\n",
       "      <th>item_id</th>\n",
       "      <th>item_cnt_day</th>\n",
       "      <th>Day</th>\n",
       "      <th>Year_month</th>\n",
       "      <th>item_name</th>\n",
       "      <th>item_category_id</th>\n",
       "      <th>item_category_name</th>\n",
       "      <th>shop_name</th>\n",
       "    </tr>\n",
       "  </thead>\n",
       "  <tbody>\n",
       "    <tr>\n",
       "      <th>0</th>\n",
       "      <td>2013</td>\n",
       "      <td>1</td>\n",
       "      <td>0</td>\n",
       "      <td>32</td>\n",
       "      <td>6.0</td>\n",
       "      <td>1</td>\n",
       "      <td>2013-01-01</td>\n",
       "      <td>1+1</td>\n",
       "      <td>40</td>\n",
       "      <td>Кино - DVD</td>\n",
       "      <td>!Якутск Орджоникидзе, 56 фран</td>\n",
       "    </tr>\n",
       "    <tr>\n",
       "      <th>1</th>\n",
       "      <td>2013</td>\n",
       "      <td>2</td>\n",
       "      <td>0</td>\n",
       "      <td>32</td>\n",
       "      <td>10.0</td>\n",
       "      <td>1</td>\n",
       "      <td>2013-02-01</td>\n",
       "      <td>1+1</td>\n",
       "      <td>40</td>\n",
       "      <td>Кино - DVD</td>\n",
       "      <td>!Якутск Орджоникидзе, 56 фран</td>\n",
       "    </tr>\n",
       "    <tr>\n",
       "      <th>2</th>\n",
       "      <td>2013</td>\n",
       "      <td>1</td>\n",
       "      <td>0</td>\n",
       "      <td>35</td>\n",
       "      <td>1.0</td>\n",
       "      <td>1</td>\n",
       "      <td>2013-01-01</td>\n",
       "      <td>10 ЛЕТ СПУСТЯ</td>\n",
       "      <td>40</td>\n",
       "      <td>Кино - DVD</td>\n",
       "      <td>!Якутск Орджоникидзе, 56 фран</td>\n",
       "    </tr>\n",
       "    <tr>\n",
       "      <th>3</th>\n",
       "      <td>2013</td>\n",
       "      <td>2</td>\n",
       "      <td>0</td>\n",
       "      <td>35</td>\n",
       "      <td>14.0</td>\n",
       "      <td>1</td>\n",
       "      <td>2013-02-01</td>\n",
       "      <td>10 ЛЕТ СПУСТЯ</td>\n",
       "      <td>40</td>\n",
       "      <td>Кино - DVD</td>\n",
       "      <td>!Якутск Орджоникидзе, 56 фран</td>\n",
       "    </tr>\n",
       "    <tr>\n",
       "      <th>4</th>\n",
       "      <td>2013</td>\n",
       "      <td>1</td>\n",
       "      <td>0</td>\n",
       "      <td>43</td>\n",
       "      <td>1.0</td>\n",
       "      <td>1</td>\n",
       "      <td>2013-01-01</td>\n",
       "      <td>100 МИЛЛИОНОВ ЕВРО</td>\n",
       "      <td>40</td>\n",
       "      <td>Кино - DVD</td>\n",
       "      <td>!Якутск Орджоникидзе, 56 фран</td>\n",
       "    </tr>\n",
       "  </tbody>\n",
       "</table>\n",
       "</div>"
      ],
      "text/plain": [
       "   Year  Month  shop_id  item_id  item_cnt_day  Day Year_month  \\\n",
       "0  2013      1        0       32           6.0    1 2013-01-01   \n",
       "1  2013      2        0       32          10.0    1 2013-02-01   \n",
       "2  2013      1        0       35           1.0    1 2013-01-01   \n",
       "3  2013      2        0       35          14.0    1 2013-02-01   \n",
       "4  2013      1        0       43           1.0    1 2013-01-01   \n",
       "\n",
       "            item_name  item_category_id item_category_name  \\\n",
       "0                 1+1                40         Кино - DVD   \n",
       "1                 1+1                40         Кино - DVD   \n",
       "2       10 ЛЕТ СПУСТЯ                40         Кино - DVD   \n",
       "3       10 ЛЕТ СПУСТЯ                40         Кино - DVD   \n",
       "4  100 МИЛЛИОНОВ ЕВРО                40         Кино - DVD   \n",
       "\n",
       "                       shop_name  \n",
       "0  !Якутск Орджоникидзе, 56 фран  \n",
       "1  !Якутск Орджоникидзе, 56 фран  \n",
       "2  !Якутск Орджоникидзе, 56 фран  \n",
       "3  !Якутск Орджоникидзе, 56 фран  \n",
       "4  !Якутск Орджоникидзе, 56 фран  "
      ]
     },
     "execution_count": 134,
     "metadata": {},
     "output_type": "execute_result"
    }
   ],
   "source": [
    "shops_items_per_month['Day'] = 1\n",
    "shops_items_per_month['Year_month'] = pd.to_datetime(shops_items_per_month[['Year','Month','Day']])\n",
    "shops_items_per_month = shops_items_per_month.merge(items, on = \"item_id\")\n",
    "shops_items_per_month = shops_items_per_month.merge(item_categories, on = \"item_category_id\")\n",
    "shops_items_per_month = shops_items_per_month.merge(shops, on = \"shop_id\")\n",
    "shops_items_per_month.head(5)\n"
   ]
  },
  {
   "cell_type": "markdown",
   "metadata": {},
   "source": [
    "Add a column to show the combination of the shop_id and item_id"
   ]
  },
  {
   "cell_type": "code",
   "execution_count": 103,
   "metadata": {},
   "outputs": [],
   "source": [
    "shops_items_per_month['Combined_ID'] = shops_items_per_month['shop_id'].astype(str) + \"_\" + shops_items_per_month['item_id'].astype(str)"
   ]
  },
  {
   "cell_type": "code",
   "execution_count": 104,
   "metadata": {},
   "outputs": [
    {
     "data": {
      "text/html": [
       "<div>\n",
       "<style>\n",
       "    .dataframe thead tr:only-child th {\n",
       "        text-align: right;\n",
       "    }\n",
       "\n",
       "    .dataframe thead th {\n",
       "        text-align: left;\n",
       "    }\n",
       "\n",
       "    .dataframe tbody tr th {\n",
       "        vertical-align: top;\n",
       "    }\n",
       "</style>\n",
       "<table border=\"1\" class=\"dataframe\">\n",
       "  <thead>\n",
       "    <tr style=\"text-align: right;\">\n",
       "      <th></th>\n",
       "      <th>Year</th>\n",
       "      <th>Month</th>\n",
       "      <th>shop_id</th>\n",
       "      <th>item_id</th>\n",
       "      <th>item_cnt_day</th>\n",
       "      <th>Day</th>\n",
       "      <th>Year_month</th>\n",
       "      <th>item_name</th>\n",
       "      <th>item_category_id</th>\n",
       "      <th>item_category_name</th>\n",
       "      <th>Combined_ID</th>\n",
       "    </tr>\n",
       "  </thead>\n",
       "  <tbody>\n",
       "    <tr>\n",
       "      <th>0</th>\n",
       "      <td>2013</td>\n",
       "      <td>1</td>\n",
       "      <td>0</td>\n",
       "      <td>32</td>\n",
       "      <td>6.0</td>\n",
       "      <td>1</td>\n",
       "      <td>2013-01-01</td>\n",
       "      <td>1+1</td>\n",
       "      <td>40</td>\n",
       "      <td>Кино - DVD</td>\n",
       "      <td>0_32</td>\n",
       "    </tr>\n",
       "    <tr>\n",
       "      <th>1</th>\n",
       "      <td>2013</td>\n",
       "      <td>1</td>\n",
       "      <td>1</td>\n",
       "      <td>32</td>\n",
       "      <td>7.0</td>\n",
       "      <td>1</td>\n",
       "      <td>2013-01-01</td>\n",
       "      <td>1+1</td>\n",
       "      <td>40</td>\n",
       "      <td>Кино - DVD</td>\n",
       "      <td>1_32</td>\n",
       "    </tr>\n",
       "    <tr>\n",
       "      <th>2</th>\n",
       "      <td>2013</td>\n",
       "      <td>1</td>\n",
       "      <td>3</td>\n",
       "      <td>32</td>\n",
       "      <td>3.0</td>\n",
       "      <td>1</td>\n",
       "      <td>2013-01-01</td>\n",
       "      <td>1+1</td>\n",
       "      <td>40</td>\n",
       "      <td>Кино - DVD</td>\n",
       "      <td>3_32</td>\n",
       "    </tr>\n",
       "  </tbody>\n",
       "</table>\n",
       "</div>"
      ],
      "text/plain": [
       "   Year  Month  shop_id  item_id  item_cnt_day  Day Year_month item_name  \\\n",
       "0  2013      1        0       32           6.0    1 2013-01-01       1+1   \n",
       "1  2013      1        1       32           7.0    1 2013-01-01       1+1   \n",
       "2  2013      1        3       32           3.0    1 2013-01-01       1+1   \n",
       "\n",
       "   item_category_id item_category_name Combined_ID  \n",
       "0                40         Кино - DVD        0_32  \n",
       "1                40         Кино - DVD        1_32  \n",
       "2                40         Кино - DVD        3_32  "
      ]
     },
     "execution_count": 104,
     "metadata": {},
     "output_type": "execute_result"
    }
   ],
   "source": [
    "shops_items_per_month.head(3)\n"
   ]
  },
  {
   "cell_type": "code",
   "execution_count": 105,
   "metadata": {},
   "outputs": [
    {
     "data": {
      "text/plain": [
       "84"
      ]
     },
     "execution_count": 105,
     "metadata": {},
     "output_type": "execute_result"
    }
   ],
   "source": [
    "shops_items_per_month['item_category_id'].nunique()"
   ]
  },
  {
   "cell_type": "markdown",
   "metadata": {},
   "source": [
    "Add mean calculation using different category to prepare for the mean encoding."
   ]
  },
  {
   "cell_type": "code",
   "execution_count": 107,
   "metadata": {},
   "outputs": [
    {
     "data": {
      "text/plain": [
       "<Container object of 12 artists>"
      ]
     },
     "execution_count": 107,
     "metadata": {},
     "output_type": "execute_result"
    },
    {
     "data": {
      "image/png": "[encoded data removed]",
      "text/plain": [
       "<matplotlib.figure.Figure at 0x116811208>"
      ]
     },
     "metadata": {},
     "output_type": "display_data"
    }
   ],
   "source": [
    "#average sales per month\n",
    "avg_sales_per_month = shops_items_per_month.groupby('Month')['item_cnt_day'].mean()\n",
    "plt.bar(np.arange(0,12),avg_sales_per_month)"
   ]
  },
  {
   "cell_type": "code",
   "execution_count": 111,
   "metadata": {},
   "outputs": [
    {
     "data": {
      "text/plain": [
       "Year\n",
       "2013    2.044803\n",
       "2014    2.066419\n",
       "2015    1.910104\n",
       "Name: item_cnt_day, dtype: float64"
      ]
     },
     "execution_count": 111,
     "metadata": {},
     "output_type": "execute_result"
    }
   ],
   "source": [
    "#average sales per year\n",
    "avg_sales_per_year = shops_items_per_month.groupby('Year')['item_cnt_day'].mean()\n",
    "avg_sales_per_year\n",
    "#plt.bar(np.arange(2013,5),avg_sales_per_year)"
   ]
  },
  {
   "cell_type": "code",
   "execution_count": 121,
   "metadata": {
    "collapsed": true
   },
   "outputs": [],
   "source": [
    "#averge sales per item category\n",
    "avg_sales_per_item_category = shops_items_per_month.groupby('item_category_id')['item_cnt_day'].mean().sort_values(ascending=False)"
   ]
  },
  {
   "cell_type": "code",
   "execution_count": 131,
   "metadata": {},
   "outputs": [
    {
     "data": {
      "text/plain": [
       "item_category_id\n",
       "71    Кино - DVD\n",
       "34    Кино - DVD\n",
       "9     Кино - DVD\n",
       "79    Кино - DVD\n",
       "82    Кино - DVD\n",
       "8     Кино - DVD\n",
       "54    Кино - DVD\n",
       "80    Кино - DVD\n",
       "35    Кино - DVD\n",
       "12    Кино - DVD\n",
       "83    Кино - DVD\n",
       "26    Кино - DVD\n",
       "20    Кино - DVD\n",
       "42    Кино - DVD\n",
       "28    Кино - DVD\n",
       "29    Кино - DVD\n",
       "30    Кино - DVD\n",
       "3     Кино - DVD\n",
       "32    Кино - DVD\n",
       "81    Кино - DVD\n",
       "Name: item_category_name, dtype: object"
      ]
     },
     "execution_count": 131,
     "metadata": {},
     "output_type": "execute_result"
    }
   ],
   "source": [
    "shops_items_per_month.loc[avg_sales_per_item_category.head(20).index, 'item_category_name']\n",
    "# item_category, KNHO - DVD has the highest revenue"
   ]
  },
  {
   "cell_type": "code",
   "execution_count": 122,
   "metadata": {},
   "outputs": [
    {
     "data": {
      "text/plain": [
       "<Container object of 84 artists>"
      ]
     },
     "execution_count": 122,
     "metadata": {},
     "output_type": "execute_result"
    },
    {
     "data": {
      "image/png": "[encoded data removed]",
      "text/plain": [
       "<matplotlib.figure.Figure at 0x1e2b79940>"
      ]
     },
     "metadata": {},
     "output_type": "display_data"
    }
   ],
   "source": [
    "plt.bar(np.arange(0,84),avg_sales_per_item_category)"
   ]
  },
  {
   "cell_type": "code",
   "execution_count": 132,
   "metadata": {
    "collapsed": true
   },
   "outputs": [],
   "source": [
    "#sales per shop\n",
    "avg_sales_per_shop_id = shops_items_per_month.groupby('shop_id')['item_cnt_day'].mean().sort_values(ascending=False)"
   ]
  },
  {
   "cell_type": "code",
   "execution_count": 137,
   "metadata": {},
   "outputs": [
    {
     "data": {
      "text/plain": [
       "shop_id\n",
       "9     !Якутск Орджоникидзе, 56 фран\n",
       "20    !Якутск Орджоникидзе, 56 фран\n",
       "55    !Якутск Орджоникидзе, 56 фран\n",
       "31    !Якутск Орджоникидзе, 56 фран\n",
       "28    !Якутск Орджоникидзе, 56 фран\n",
       "27    !Якутск Орджоникидзе, 56 фран\n",
       "25    !Якутск Орджоникидзе, 56 фран\n",
       "0     !Якутск Орджоникидзе, 56 фран\n",
       "54    !Якутск Орджоникидзе, 56 фран\n",
       "57    !Якутск Орджоникидзе, 56 фран\n",
       "42    !Якутск Орджоникидзе, 56 фран\n",
       "22    !Якутск Орджоникидзе, 56 фран\n",
       "12    !Якутск Орджоникидзе, 56 фран\n",
       "15    !Якутск Орджоникидзе, 56 фран\n",
       "58    !Якутск Орджоникидзе, 56 фран\n",
       "43    !Якутск Орджоникидзе, 56 фран\n",
       "24    !Якутск Орджоникидзе, 56 фран\n",
       "40    !Якутск Орджоникидзе, 56 фран\n",
       "46    !Якутск Орджоникидзе, 56 фран\n",
       "50    !Якутск Орджоникидзе, 56 фран\n",
       "Name: shop_name, dtype: object"
      ]
     },
     "execution_count": 137,
     "metadata": {},
     "output_type": "execute_result"
    }
   ],
   "source": [
    "shops_items_per_month.loc[avg_sales_per_shop_id.head(20).index, 'shop_name']\n",
    "# shops with the following name have the highest revenue"
   ]
  },
  {
   "cell_type": "code",
   "execution_count": 117,
   "metadata": {},
   "outputs": [
    {
     "data": {
      "text/plain": [
       "<Container object of 60 artists>"
      ]
     },
     "execution_count": 117,
     "metadata": {},
     "output_type": "execute_result"
    },
    {
     "data": {
      "image/png": "[encoded data removed]",
      "text/plain": [
       "<matplotlib.figure.Figure at 0x120a13d30>"
      ]
     },
     "metadata": {},
     "output_type": "display_data"
    }
   ],
   "source": [
    "plt.bar(np.arange(0,60),avg_sales_per_shop_id)"
   ]
  },
  {
   "cell_type": "code",
   "execution_count": 118,
   "metadata": {
    "collapsed": true
   },
   "outputs": [],
   "source": [
    "avg_sales_per_combined_id = shops_items_per_month.groupby('Combined_ID')['item_cnt_day'].mean()"
   ]
  },
  {
   "cell_type": "code",
   "execution_count": 138,
   "metadata": {
    "collapsed": true
   },
   "outputs": [],
   "source": [
    "#sales per item\n",
    "avg_sales_per_item = shops_items_per_month.groupby('item_id')['item_cnt_day'].mean().sort_values(ascending=False)"
   ]
  },
  {
   "cell_type": "code",
   "execution_count": 140,
   "metadata": {},
   "outputs": [
    {
     "data": {
      "text/plain": [
       "item_id\n",
       "492                   КОРОЛЬ ЛЕВ 2 ГОРДОСТЬ СИМБЫ (регион)\n",
       "10205                              ЛЕКАРЬ: УЧЕНИК АВИЦЕННЫ\n",
       "13098    R.A.W. Проклятье древних королей [PC, Jewel, р...\n",
       "3726         Saints Row: The Third [PS3, русские субтитры]\n",
       "6679                                     AC/DC  Iron Man 2\n",
       "13642    Assassin's Creed IV. Черный флаг [PC, Jewel, р...\n",
       "11370    ПИРАТЫ КАРИБСКОГО МОРЯ: ПРОКЛЯТИЕ ЧЕРНОЙ ЖЕМЧУ...\n",
       "3729     Skylanders. Стартовый набор: игровой портал, и...\n",
       "1553                                           АРТИСТ (BD)\n",
       "13097    Dragon Age: Начало – Пробуждение [PC, Jewel, р...\n",
       "11369       ПИРАТЫ КАРИБСКОГО МОРЯ: НА КРАЮ СВЕТА (BD+DVD)\n",
       "13099    Drakensang Online. Люкс (Dragon) [PC, русская ...\n",
       "13342    Метро. Луч надежды. Ограниченное издание [PC, ...\n",
       "805                                        ПРАВО НА \"ЛЕВО\"\n",
       "20949    Disney. Пираты Карибского моря. На краю света ...\n",
       "7967                       КРЕСТНЫЙ ОТЕЦ. КОЛЛЕКЦИЯ (3DVD)\n",
       "16252            ВАЛЕНТИН СТРЫКАЛО  Часть чего-то большего\n",
       "7966     КОТ В САПОГАХ+ШРЭК+ШРЭК2+ШРЭК3+ШРЭК НАВСЕГДА+Ш...\n",
       "11372     ПИРАТЫ КАРИБСКОГО МОРЯ: СУНДУК МЕРТВЕЦА (BD+DVD)\n",
       "797                          ПОЛЯРНЫЙ ЭКСПРЕСС WB (регион)\n",
       "Name: item_name, dtype: object"
      ]
     },
     "execution_count": 140,
     "metadata": {},
     "output_type": "execute_result"
    }
   ],
   "source": [
    "shops_items_per_month.loc[avg_sales_per_item.head(20).index, 'item_name']"
   ]
  },
  {
   "cell_type": "markdown",
   "metadata": {},
   "source": [
    "Feature engineering:\n",
    "1. add number of days in a month may help\n",
    "2. add mean encoding"
   ]
  },
  {
   "cell_type": "code",
   "execution_count": 143,
   "metadata": {},
   "outputs": [
    {
     "data": {
      "text/html": [
       "<div>\n",
       "<style>\n",
       "    .dataframe thead tr:only-child th {\n",
       "        text-align: right;\n",
       "    }\n",
       "\n",
       "    .dataframe thead th {\n",
       "        text-align: left;\n",
       "    }\n",
       "\n",
       "    .dataframe tbody tr th {\n",
       "        vertical-align: top;\n",
       "    }\n",
       "</style>\n",
       "<table border=\"1\" class=\"dataframe\">\n",
       "  <thead>\n",
       "    <tr style=\"text-align: right;\">\n",
       "      <th></th>\n",
       "      <th>Year</th>\n",
       "      <th>Month</th>\n",
       "      <th>shop_id</th>\n",
       "      <th>item_id</th>\n",
       "      <th>item_cnt_day</th>\n",
       "      <th>Day</th>\n",
       "      <th>Year_month</th>\n",
       "      <th>item_name</th>\n",
       "      <th>item_category_id</th>\n",
       "      <th>item_category_name</th>\n",
       "      <th>shop_name</th>\n",
       "    </tr>\n",
       "  </thead>\n",
       "  <tbody>\n",
       "    <tr>\n",
       "      <th>0</th>\n",
       "      <td>2013</td>\n",
       "      <td>1</td>\n",
       "      <td>0</td>\n",
       "      <td>32</td>\n",
       "      <td>6.0</td>\n",
       "      <td>1</td>\n",
       "      <td>2013-01-01</td>\n",
       "      <td>1+1</td>\n",
       "      <td>40</td>\n",
       "      <td>Кино - DVD</td>\n",
       "      <td>!Якутск Орджоникидзе, 56 фран</td>\n",
       "    </tr>\n",
       "    <tr>\n",
       "      <th>1</th>\n",
       "      <td>2013</td>\n",
       "      <td>2</td>\n",
       "      <td>0</td>\n",
       "      <td>32</td>\n",
       "      <td>10.0</td>\n",
       "      <td>1</td>\n",
       "      <td>2013-02-01</td>\n",
       "      <td>1+1</td>\n",
       "      <td>40</td>\n",
       "      <td>Кино - DVD</td>\n",
       "      <td>!Якутск Орджоникидзе, 56 фран</td>\n",
       "    </tr>\n",
       "    <tr>\n",
       "      <th>2</th>\n",
       "      <td>2013</td>\n",
       "      <td>1</td>\n",
       "      <td>0</td>\n",
       "      <td>35</td>\n",
       "      <td>1.0</td>\n",
       "      <td>1</td>\n",
       "      <td>2013-01-01</td>\n",
       "      <td>10 ЛЕТ СПУСТЯ</td>\n",
       "      <td>40</td>\n",
       "      <td>Кино - DVD</td>\n",
       "      <td>!Якутск Орджоникидзе, 56 фран</td>\n",
       "    </tr>\n",
       "    <tr>\n",
       "      <th>3</th>\n",
       "      <td>2013</td>\n",
       "      <td>2</td>\n",
       "      <td>0</td>\n",
       "      <td>35</td>\n",
       "      <td>14.0</td>\n",
       "      <td>1</td>\n",
       "      <td>2013-02-01</td>\n",
       "      <td>10 ЛЕТ СПУСТЯ</td>\n",
       "      <td>40</td>\n",
       "      <td>Кино - DVD</td>\n",
       "      <td>!Якутск Орджоникидзе, 56 фран</td>\n",
       "    </tr>\n",
       "  </tbody>\n",
       "</table>\n",
       "</div>"
      ],
      "text/plain": [
       "   Year  Month  shop_id  item_id  item_cnt_day  Day Year_month      item_name  \\\n",
       "0  2013      1        0       32           6.0    1 2013-01-01            1+1   \n",
       "1  2013      2        0       32          10.0    1 2013-02-01            1+1   \n",
       "2  2013      1        0       35           1.0    1 2013-01-01  10 ЛЕТ СПУСТЯ   \n",
       "3  2013      2        0       35          14.0    1 2013-02-01  10 ЛЕТ СПУСТЯ   \n",
       "\n",
       "   item_category_id item_category_name                      shop_name  \n",
       "0                40         Кино - DVD  !Якутск Орджоникидзе, 56 фран  \n",
       "1                40         Кино - DVD  !Якутск Орджоникидзе, 56 фран  \n",
       "2                40         Кино - DVD  !Якутск Орджоникидзе, 56 фран  \n",
       "3                40         Кино - DVD  !Якутск Орджоникидзе, 56 фран  "
      ]
     },
     "execution_count": 143,
     "metadata": {},
     "output_type": "execute_result"
    }
   ],
   "source": [
    "shops_items_per_month.head(4)"
   ]
  },
  {
   "cell_type": "code",
   "execution_count": 147,
   "metadata": {},
   "outputs": [],
   "source": [
    "data = shops_items_per_month[['Year', 'Month', 'shop_id', 'item_id', 'item_cnt_day', 'item_category_id']]"
   ]
  },
  {
   "cell_type": "code",
   "execution_count": 152,
   "metadata": {},
   "outputs": [
    {
     "data": {
      "text/html": [
       "<div>\n",
       "<style>\n",
       "    .dataframe thead tr:only-child th {\n",
       "        text-align: right;\n",
       "    }\n",
       "\n",
       "    .dataframe thead th {\n",
       "        text-align: left;\n",
       "    }\n",
       "\n",
       "    .dataframe tbody tr th {\n",
       "        vertical-align: top;\n",
       "    }\n",
       "</style>\n",
       "<table border=\"1\" class=\"dataframe\">\n",
       "  <thead>\n",
       "    <tr style=\"text-align: right;\">\n",
       "      <th></th>\n",
       "      <th>Year</th>\n",
       "      <th>Month</th>\n",
       "      <th>shop_id</th>\n",
       "      <th>item_id</th>\n",
       "      <th>item_cnt_day</th>\n",
       "      <th>item_category_id</th>\n",
       "    </tr>\n",
       "  </thead>\n",
       "  <tbody>\n",
       "    <tr>\n",
       "      <th>1609119</th>\n",
       "      <td>2015</td>\n",
       "      <td>9</td>\n",
       "      <td>55</td>\n",
       "      <td>13095</td>\n",
       "      <td>1.0</td>\n",
       "      <td>36</td>\n",
       "    </tr>\n",
       "    <tr>\n",
       "      <th>1609120</th>\n",
       "      <td>2015</td>\n",
       "      <td>10</td>\n",
       "      <td>55</td>\n",
       "      <td>13095</td>\n",
       "      <td>3.0</td>\n",
       "      <td>36</td>\n",
       "    </tr>\n",
       "    <tr>\n",
       "      <th>1609121</th>\n",
       "      <td>2015</td>\n",
       "      <td>9</td>\n",
       "      <td>55</td>\n",
       "      <td>13091</td>\n",
       "      <td>1.0</td>\n",
       "      <td>36</td>\n",
       "    </tr>\n",
       "    <tr>\n",
       "      <th>1609122</th>\n",
       "      <td>2015</td>\n",
       "      <td>9</td>\n",
       "      <td>55</td>\n",
       "      <td>13094</td>\n",
       "      <td>3.0</td>\n",
       "      <td>36</td>\n",
       "    </tr>\n",
       "    <tr>\n",
       "      <th>1609123</th>\n",
       "      <td>2015</td>\n",
       "      <td>10</td>\n",
       "      <td>55</td>\n",
       "      <td>13092</td>\n",
       "      <td>1.0</td>\n",
       "      <td>36</td>\n",
       "    </tr>\n",
       "  </tbody>\n",
       "</table>\n",
       "</div>"
      ],
      "text/plain": [
       "         Year  Month  shop_id  item_id  item_cnt_day  item_category_id\n",
       "1609119  2015      9       55    13095           1.0                36\n",
       "1609120  2015     10       55    13095           3.0                36\n",
       "1609121  2015      9       55    13091           1.0                36\n",
       "1609122  2015      9       55    13094           3.0                36\n",
       "1609123  2015     10       55    13092           1.0                36"
      ]
     },
     "execution_count": 152,
     "metadata": {},
     "output_type": "execute_result"
    }
   ],
   "source": [
    "data.tail()"
   ]
  },
  {
   "cell_type": "code",
   "execution_count": 159,
   "metadata": {},
   "outputs": [],
   "source": [
    "train = data.loc[~((data['Year'] == 2015) & (data['Month'].isin([5,6,7,8,9,10]) ))]\n",
    "test = data.loc[(data['Year'] == 2015) & (data['Month'].isin([5,6,7,8,9,10]) )]"
   ]
  },
  {
   "cell_type": "code",
   "execution_count": 161,
   "metadata": {},
   "outputs": [
    {
     "data": {
      "text/html": [
       "<div>\n",
       "<style>\n",
       "    .dataframe thead tr:only-child th {\n",
       "        text-align: right;\n",
       "    }\n",
       "\n",
       "    .dataframe thead th {\n",
       "        text-align: left;\n",
       "    }\n",
       "\n",
       "    .dataframe tbody tr th {\n",
       "        vertical-align: top;\n",
       "    }\n",
       "</style>\n",
       "<table border=\"1\" class=\"dataframe\">\n",
       "  <thead>\n",
       "    <tr style=\"text-align: right;\">\n",
       "      <th></th>\n",
       "      <th>Year</th>\n",
       "      <th>Month</th>\n",
       "      <th>shop_id</th>\n",
       "      <th>item_id</th>\n",
       "      <th>item_cnt_day</th>\n",
       "      <th>item_category_id</th>\n",
       "    </tr>\n",
       "  </thead>\n",
       "  <tbody>\n",
       "    <tr>\n",
       "      <th>1609092</th>\n",
       "      <td>2015</td>\n",
       "      <td>4</td>\n",
       "      <td>55</td>\n",
       "      <td>2757</td>\n",
       "      <td>2.0</td>\n",
       "      <td>26</td>\n",
       "    </tr>\n",
       "    <tr>\n",
       "      <th>1609099</th>\n",
       "      <td>2014</td>\n",
       "      <td>12</td>\n",
       "      <td>55</td>\n",
       "      <td>5230</td>\n",
       "      <td>2.0</td>\n",
       "      <td>26</td>\n",
       "    </tr>\n",
       "    <tr>\n",
       "      <th>1609100</th>\n",
       "      <td>2015</td>\n",
       "      <td>2</td>\n",
       "      <td>55</td>\n",
       "      <td>5230</td>\n",
       "      <td>4.0</td>\n",
       "      <td>26</td>\n",
       "    </tr>\n",
       "    <tr>\n",
       "      <th>1609101</th>\n",
       "      <td>2015</td>\n",
       "      <td>3</td>\n",
       "      <td>55</td>\n",
       "      <td>5230</td>\n",
       "      <td>2.0</td>\n",
       "      <td>26</td>\n",
       "    </tr>\n",
       "    <tr>\n",
       "      <th>1609102</th>\n",
       "      <td>2015</td>\n",
       "      <td>4</td>\n",
       "      <td>55</td>\n",
       "      <td>5230</td>\n",
       "      <td>1.0</td>\n",
       "      <td>26</td>\n",
       "    </tr>\n",
       "  </tbody>\n",
       "</table>\n",
       "</div>"
      ],
      "text/plain": [
       "         Year  Month  shop_id  item_id  item_cnt_day  item_category_id\n",
       "1609092  2015      4       55     2757           2.0                26\n",
       "1609099  2014     12       55     5230           2.0                26\n",
       "1609100  2015      2       55     5230           4.0                26\n",
       "1609101  2015      3       55     5230           2.0                26\n",
       "1609102  2015      4       55     5230           1.0                26"
      ]
     },
     "execution_count": 161,
     "metadata": {},
     "output_type": "execute_result"
    }
   ],
   "source": [
    "train.tail()"
   ]
  },
  {
   "cell_type": "code",
   "execution_count": null,
   "metadata": {
    "collapsed": true
   },
   "outputs": [],
   "source": []
  }
 ],
 "metadata": {
  "kernelspec": {
   "display_name": "Python 3",
   "language": "python",
   "name": "python3"
  },
  "language_info": {
   "codemirror_mode": {
    "name": "ipython",
    "version": 3
   },
   "file_extension": ".py",
   "mimetype": "text/x-python",
   "name": "python",
   "nbconvert_exporter": "python",
   "pygments_lexer": "ipython3",
   "version": "3.6.3"
  }
 },
 "nbformat": 4,
 "nbformat_minor": 2
}
